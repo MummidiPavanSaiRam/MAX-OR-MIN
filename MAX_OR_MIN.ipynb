{
  "nbformat": 4,
  "nbformat_minor": 0,
  "metadata": {
    "colab": {
      "provenance": []
    },
    "kernelspec": {
      "name": "python3",
      "display_name": "Python 3"
    },
    "language_info": {
      "name": "python"
    }
  },
  "cells": [
    {
      "cell_type": "code",
      "execution_count": 7,
      "metadata": {
        "colab": {
          "base_uri": "https://localhost:8080/"
        },
        "id": "2WjIdnWa7Otq",
        "outputId": "50a7b1dd-8c46-4abe-a319-1719177226b6"
      },
      "outputs": [
        {
          "output_type": "stream",
          "name": "stdout",
          "text": [
            "min: 1\n",
            "max: 10\n",
            "------------------------\n",
            "max: 10\n",
            "min: 1\n"
          ]
        }
      ],
      "source": [
        "#Define method to print the max and min numbes among three numbers entered by the user.\n",
        "def numbers(*x):\n",
        "  max=x[0]\n",
        "  min=x[0]\n",
        "  for i in range(len(x)):\n",
        "      for j in range(len(x)):\n",
        "        if x[j] >max:\n",
        "          max=x[j]\n",
        "        if x[i] <min:\n",
        "          min =x[i]\n",
        "  print(\"min:\",min)\n",
        "  print(\"max:\",max)\n",
        "\n",
        "def a(*x):\n",
        "  print(\"max:\",max(x))\n",
        "  print(\"min:\",min(x))\n",
        "\n",
        "numbers(10,1,2)\n",
        "\n",
        "print(\"------------------------\")\n",
        "a(10,1,2)"
      ]
    },
    {
      "cell_type": "code",
      "source": [],
      "metadata": {
        "id": "GZHF1B7X7P3Z"
      },
      "execution_count": null,
      "outputs": []
    }
  ]
}